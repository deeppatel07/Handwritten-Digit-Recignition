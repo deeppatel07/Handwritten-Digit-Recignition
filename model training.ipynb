{
 "cells": [
  {
   "cell_type": "code",
   "execution_count": 1,
   "id": "e2a9a9d4",
   "metadata": {},
   "outputs": [
    {
     "name": "stdout",
     "output_type": "stream",
     "text": [
      "(60000, 28, 28) (60000,)\n",
      "x_train shape: (60000, 28, 28, 1)\n",
      "60000 train samples\n",
      "10000 test samples\n"
     ]
    }
   ],
   "source": [
    "import keras                                                                    #load libraries\n",
    "import keras.utils\n",
    "from keras import utils as np_utils\n",
    "from keras.datasets import mnist\n",
    "from keras.models import Sequential\n",
    "from keras.layers import Dense, Dropout, Flatten\n",
    "from keras.layers import Conv2D, MaxPooling2D\n",
    "from keras import backend as K\n",
    "\n",
    "(x_train, y_train), (x_test, y_test) = mnist.load_data()\n",
    "\n",
    "print(x_train.shape, y_train.shape)                                             #data preprocessing\n",
    "\n",
    "x_train = x_train.reshape(x_train.shape[0], 28, 28, 1)\n",
    "x_test = x_test.reshape(x_test.shape[0], 28, 28, 1)\n",
    "input_shape = (28, 28, 1)\n",
    "num_classes = 10\n",
    "\n",
    "y_train = keras.utils.to_categorical(y_train, num_classes)\n",
    "y_test = keras.utils.to_categorical(y_test, num_classes)\n",
    "\n",
    "x_train = x_train.astype('float32')                                             #\n",
    "x_test = x_test.astype('float32')\n",
    "x_train /= 255\n",
    "x_test /= 255\n",
    "print('x_train shape:', x_train.shape)\n",
    "print(x_train.shape[0], 'train samples')\n",
    "print(x_test.shape[0], 'test samples')\n",
    "\n",
    "batch_size = 128                                                                #cnn model creation\n",
    "num_classes = 10\n",
    "epochs = 10\n",
    "\n"
   ]
  },
  {
   "cell_type": "code",
   "execution_count": 2,
   "id": "86ed42ba",
   "metadata": {},
   "outputs": [
    {
     "name": "stdout",
     "output_type": "stream",
     "text": [
      "Epoch 1/10\n",
      "469/469 [==============================] - 77s 163ms/step - loss: 2.2861 - accuracy: 0.1185 - val_loss: 2.2272 - val_accuracy: 0.3633\n",
      "Epoch 2/10\n",
      "469/469 [==============================] - 85s 182ms/step - loss: 2.2185 - accuracy: 0.2525 - val_loss: 2.1371 - val_accuracy: 0.5960\n",
      "Epoch 3/10\n",
      "469/469 [==============================] - 80s 170ms/step - loss: 2.1297 - accuracy: 0.4014 - val_loss: 2.0110 - val_accuracy: 0.6686\n",
      "Epoch 4/10\n",
      "469/469 [==============================] - 83s 177ms/step - loss: 2.0044 - accuracy: 0.5073 - val_loss: 1.8314 - val_accuracy: 0.7112\n",
      "Epoch 5/10\n",
      "469/469 [==============================] - 82s 176ms/step - loss: 1.8284 - accuracy: 0.5772 - val_loss: 1.5961 - val_accuracy: 0.7507\n",
      "Epoch 6/10\n",
      "469/469 [==============================] - 80s 171ms/step - loss: 1.6132 - accuracy: 0.6269 - val_loss: 1.3322 - val_accuracy: 0.7757\n",
      "Epoch 7/10\n",
      "469/469 [==============================] - 78s 165ms/step - loss: 1.3799 - accuracy: 0.6666 - val_loss: 1.0934 - val_accuracy: 0.7993\n",
      "Epoch 8/10\n",
      "469/469 [==============================] - 77s 164ms/step - loss: 1.1868 - accuracy: 0.6879 - val_loss: 0.9103 - val_accuracy: 0.8137\n",
      "Epoch 9/10\n",
      "469/469 [==============================] - 80s 171ms/step - loss: 1.0325 - accuracy: 0.7183 - val_loss: 0.7800 - val_accuracy: 0.8282\n",
      "Epoch 10/10\n",
      "469/469 [==============================] - 80s 170ms/step - loss: 0.9308 - accuracy: 0.7317 - val_loss: 0.6875 - val_accuracy: 0.8411\n",
      "The model has successfully trained\n",
      "Saving the model as mnist.h5\n",
      "Test loss: 0.6874903440475464\n",
      "Test accuracy: 0.8410999774932861\n"
     ]
    }
   ],
   "source": [
    "model = Sequential()\n",
    "model.add(Conv2D(32, kernel_size=(3, 3),activation='relu',input_shape=input_shape))\n",
    "model.add(Conv2D(64, (3, 3), activation='relu'))\n",
    "model.add(MaxPooling2D(pool_size=(2, 2)))\n",
    "model.add(Dropout(0.25))\n",
    "model.add(Flatten())\n",
    "model.add(Dense(256, activation='relu'))\n",
    "model.add(Dropout(0.5))\n",
    "model.add(Dense(num_classes, activation='softmax'))\n",
    "\n",
    "model.compile(loss=keras.losses.categorical_crossentropy,optimizer=keras.optimizers.Adadelta(),metrics=['accuracy'])\n",
    "\n",
    "hist = model.fit(x_train, y_train,batch_size=batch_size,epochs=epochs,verbose=1,validation_data=(x_test, y_test)) #train model\n",
    "print(\"The model has successfully trained\")\n",
    "\n",
    "model.save('mnist.h5')\n",
    "print(\"Saving the model as mnist.h5\")\n",
    "\n",
    "score = model.evaluate(x_test, y_test, verbose=0)                               #evaluate model\n",
    "print('Test loss:', score[0])\n",
    "print('Test accuracy:', score[1])"
   ]
  },
  {
   "cell_type": "code",
   "execution_count": null,
   "id": "174e35f1",
   "metadata": {},
   "outputs": [],
   "source": []
  }
 ],
 "metadata": {
  "kernelspec": {
   "display_name": "Python 3",
   "language": "python",
   "name": "python3"
  },
  "language_info": {
   "codemirror_mode": {
    "name": "ipython",
    "version": 3
   },
   "file_extension": ".py",
   "mimetype": "text/x-python",
   "name": "python",
   "nbconvert_exporter": "python",
   "pygments_lexer": "ipython3",
   "version": "3.8.5"
  }
 },
 "nbformat": 4,
 "nbformat_minor": 5
}
